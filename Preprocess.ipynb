{
 "cells": [
  {
   "cell_type": "code",
   "execution_count": 14,
   "metadata": {},
   "outputs": [],
   "source": [
    "import numpy as np \n",
    "import os\n",
    "import matplotlib.pyplot as plt\n",
    "import idx2numpy\n",
    "import cv2\n",
    "import glob\n",
    "\n",
    "from IPython.display import clear_output"
   ]
  },
  {
   "cell_type": "code",
   "execution_count": 2,
   "metadata": {},
   "outputs": [],
   "source": [
    "train_images = idx2numpy.convert_from_file('data/raw/train-images-idx3-ubyte')\n",
    "train_labels = idx2numpy.convert_from_file('data/raw/train-labels-idx1-ubyte')\n",
    "test_images = idx2numpy.convert_from_file('data/raw/t10k-images-idx3-ubyte')\n",
    "test_labels = idx2numpy.convert_from_file('data/raw/t10k-labels-idx1-ubyte')"
   ]
  },
  {
   "cell_type": "code",
   "execution_count": 10,
   "metadata": {},
   "outputs": [],
   "source": [
    "labels = [\n",
    "    'T-shirt-Top',\n",
    "    'Trouser',\n",
    "    'Pullover',\n",
    "    'Dress',\n",
    "    'Coat',\n",
    "    'Sandal',\n",
    "    'Shirt',\n",
    "    'Sneaker',\n",
    "    'Bag',\n",
    "    'Ankle boot'\n",
    "]"
   ]
  },
  {
   "cell_type": "code",
   "execution_count": 13,
   "metadata": {},
   "outputs": [],
   "source": [
    "train_folder = 'data/train/'\n",
    "\n",
    "for index, image in enumerate(train_images):\n",
    "    curr_label = labels[train_labels[index]]\n",
    "    path = train_folder + curr_label\n",
    "    \n",
    "    if not os.path.exists(path):\n",
    "        os.makedirs(path)\n",
    "    \n",
    "    total_images = str(len(glob.glob(path + \"/*.jpg\")) + 1)\n",
    "    \n",
    "    write_path = path + '/' + total_images + '.jpg'\n",
    "    print('Writing current file:' + write_path)\n",
    "    cv2.imwrite(write_path, image)\n",
    "    clear_output()"
   ]
  },
  {
   "cell_type": "code",
   "execution_count": 15,
   "metadata": {},
   "outputs": [],
   "source": [
    "test_folder = 'data/test/'\n",
    "for index, image in enumerate(test_images):\n",
    "    curr_label = labels[test_labels[index]]\n",
    "    path = test_folder + curr_label\n",
    "    \n",
    "    if not os.path.exists(path):\n",
    "        os.makedirs(path)\n",
    "    \n",
    "    total_images = str(len(glob.glob(path + \"/*.jpg\")) + 1)\n",
    "    \n",
    "    write_path = path + '/' + total_images + '.jpg'\n",
    "    print('Writing current file:' + write_path)\n",
    "    cv2.imwrite(write_path, image)\n",
    "    clear_output()"
   ]
  }
 ],
 "metadata": {
  "kernelspec": {
   "display_name": "Python 3",
   "language": "python",
   "name": "python3"
  },
  "language_info": {
   "codemirror_mode": {
    "name": "ipython",
    "version": 3
   },
   "file_extension": ".py",
   "mimetype": "text/x-python",
   "name": "python",
   "nbconvert_exporter": "python",
   "pygments_lexer": "ipython3",
   "version": "3.6.10"
  }
 },
 "nbformat": 4,
 "nbformat_minor": 2
}
